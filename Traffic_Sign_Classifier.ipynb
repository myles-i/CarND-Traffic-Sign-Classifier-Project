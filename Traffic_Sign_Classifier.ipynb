{
 "cells": [
  {
   "cell_type": "markdown",
   "metadata": {},
   "source": [
    "# Self-Driving Car Engineer Nanodegree\n",
    "\n",
    "## Deep Learning\n",
    "\n",
    "## Project: Build a Traffic Sign Recognition Classifier\n",
    "\n",
    "In this notebook, a template is provided for you to implement your functionality in stages which is required to successfully complete this project. If additional code is required that cannot be included in the notebook, be sure that the Python code is successfully imported and included in your submission, if necessary. Sections that begin with **'Implementation'** in the header indicate where you should begin your implementation for your project. Note that some sections of implementation are optional, and will be marked with **'Optional'** in the header.\n",
    "\n",
    "In addition to implementing code, there will be questions that you must answer which relate to the project and your implementation. Each section where you will answer a question is preceded by a **'Question'** header. Carefully read each question and provide thorough answers in the following text boxes that begin with **'Answer:'**. Your project submission will be evaluated based on your answers to each of the questions and the implementation you provide.\n",
    "\n",
    ">**Note:** Code and Markdown cells can be executed using the **Shift + Enter** keyboard shortcut. In addition, Markdown cells can be edited by typically double-clicking the cell to enter edit mode."
   ]
  },
  {
   "cell_type": "markdown",
   "metadata": {},
   "source": [
    "---\n",
    "## Step 0: Load The Data"
   ]
  },
  {
   "cell_type": "code",
   "execution_count": 1,
   "metadata": {
    "collapsed": false
   },
   "outputs": [],
   "source": [
    "from tensorflow.examples.tutorials.mnist import input_data\n",
    "from sklearn.model_selection import train_test_split\n",
    "import pickle\n",
    "\n",
    "# pickle file locations\n",
    "training_file = 'train.p'\n",
    "testing_file = 'test.p'\n",
    "\n",
    "# load pickle data\n",
    "with open(training_file, mode='rb') as f:\n",
    "    train = pickle.load(f)\n",
    "with open(testing_file, mode='rb') as f:\n",
    "    test = pickle.load(f)\n",
    "    \n",
    "X_train, y_train = train['features'], train['labels']\n",
    "X_test, y_test = test['features'], test['labels']\n",
    "\n",
    "assert(len(X_train) == len(y_train))\n",
    "assert(len(X_test) == len(y_test))\n"
   ]
  },
  {
   "cell_type": "markdown",
   "metadata": {},
   "source": [
    "---\n",
    "\n",
    "## Step 1: Dataset Summary & Exploration\n",
    "\n",
    "The pickled data is a dictionary with 4 key/value pairs:\n",
    "\n",
    "- `'features'` is a 4D array containing raw pixel data of the traffic sign images, (num examples, width, height, channels).\n",
    "- `'labels'` is a 2D array containing the label/class id of the traffic sign. The file `signnames.csv` contains id -> name mappings for each id.\n",
    "- `'sizes'` is a list containing tuples, (width, height) representing the the original width and height the image.\n",
    "- `'coords'` is a list containing tuples, (x1, y1, x2, y2) representing coordinates of a bounding box around the sign in the image. **THESE COORDINATES ASSUME THE ORIGINAL IMAGE. THE PICKLED DATA CONTAINS RESIZED VERSIONS (32 by 32) OF THESE IMAGES**\n",
    "\n",
    "Complete the basic data summary below."
   ]
  },
  {
   "cell_type": "code",
   "execution_count": 2,
   "metadata": {
    "collapsed": false
   },
   "outputs": [
    {
     "name": "stdout",
     "output_type": "stream",
     "text": [
      "Number of training examples = 31367\n",
      "Number of validation examples = 7842\n",
      "Number of testing examples = 12630\n",
      "Image data shape = [32, 32, 3]\n",
      "Number of classes = 43\n"
     ]
    }
   ],
   "source": [
    "### Replace each question mark with the appropriate value.\n",
    "\n",
    "# Number of training examples\n",
    "n_train = 31367\n",
    "\n",
    "# Number of testing examples.\n",
    "n_validation = 7842\n",
    "\n",
    "# Number of testing examples.\n",
    "n_test = 12630\n",
    "\n",
    "# Shape of traffic sign image\n",
    "image_shape = [32, 32, 3]\n",
    "\n",
    "# Number of unique classes/labels there are in the dataset.\n",
    "n_classes = 43\n",
    "\n",
    "print(\"Number of training examples =\", n_train)\n",
    "print(\"Number of validation examples =\", n_validation)\n",
    "print(\"Number of testing examples =\", n_test)\n",
    "print(\"Image data shape =\", image_shape)\n",
    "print(\"Number of classes =\", n_classes)"
   ]
  },
  {
   "cell_type": "markdown",
   "metadata": {},
   "source": [
    "Visualize the German Traffic Signs Dataset using the pickled file(s). This is open ended, suggestions include: plotting traffic sign images, plotting the count of each sign, etc.\n",
    "\n",
    "The [Matplotlib](http://matplotlib.org/) [examples](http://matplotlib.org/examples/index.html) and [gallery](http://matplotlib.org/gallery.html) pages are a great resource for doing visualizations in Python.\n",
    "\n",
    "**NOTE:** It's recommended you start with something simple first. If you wish to do more, come back to it after you've completed the rest of the sections."
   ]
  },
  {
   "cell_type": "code",
   "execution_count": 3,
   "metadata": {
    "collapsed": false
   },
   "outputs": [
    {
     "name": "stdout",
     "output_type": "stream",
     "text": [
      "2\n",
      "(39209, 32, 32, 3)\n"
     ]
    },
    {
     "data": {
      "image/png": "[encoded data removed]",
      "text/plain": [
       "<matplotlib.figure.Figure at 0x7f06bc975128>"
      ]
     },
     "metadata": {},
     "output_type": "display_data"
    }
   ],
   "source": [
    "### Data exploration visualization goes here.\n",
    "### Feel free to use as many code cells as needed.\n",
    "import matplotlib.pyplot as plt\n",
    "import random\n",
    "# Visualizations will be shown in the notebook.\n",
    "%matplotlib inline\n",
    "index = random.randint(0, len(X_train))\n",
    "image = X_train[index].squeeze()\n",
    "\n",
    "plt.figure(figsize=(1,1))\n",
    "plt.imshow(image,cmap='gray')\n",
    "\n",
    "# plt.figure(figsize=(1,1))\n",
    "# plt.imshow(edges)\n",
    "print(y_train[index])\n",
    "print(X_train.shape)"
   ]
  },
  {
   "cell_type": "markdown",
   "metadata": {},
   "source": [
    "----\n",
    "\n",
    "## Step 2: Design and Test a Model Architecture\n",
    "\n",
    "Design and implement a deep learning model that learns to recognize traffic signs. Train and test your model on the [German Traffic Sign Dataset](http://benchmark.ini.rub.de/?section=gtsrb&subsection=dataset).\n",
    "\n",
    "There are various aspects to consider when thinking about this problem:\n",
    "\n",
    "- Neural network architecture\n",
    "- Play around preprocessing techniques (normalization, rgb to grayscale, etc)\n",
    "- Number of examples per label (some have more than others).\n",
    "- Generate fake data.\n",
    "\n",
    "Here is an example of a [published baseline model on this problem](http://yann.lecun.com/exdb/publis/pdf/sermanet-ijcnn-11.pdf). It's not required to be familiar with the approach used in the paper but, it's good practice to try to read papers like these.\n",
    "\n",
    "**NOTE:** The LeNet-5 implementation shown in the [classroom](https://classroom.udacity.com/nanodegrees/nd013/parts/fbf77062-5703-404e-b60c-95b78b2f3f9e/modules/6df7ae49-c61c-4bb2-a23e-6527e69209ec/lessons/601ae704-1035-4287-8b11-e2c2716217ad/concepts/d4aca031-508f-4e0b-b493-e7b706120f81) at the end of the CNN lesson is a solid starting point. You'll have to change the number of classes and possibly the preprocessing, but aside from that it's plug and play!"
   ]
  },
  {
   "cell_type": "markdown",
   "metadata": {},
   "source": [
    "## My implementation"
   ]
  },
  {
   "cell_type": "markdown",
   "metadata": {},
   "source": [
    "### Preprocess Data\n",
    "- Convert to Grayscale using: cv2.cvtColor(img, cv2.COLOR_BGR2GRAY)\n",
    "- Equalize the histogram using: cv2.equalizeHist(img)\n",
    "- Normalized the image using: cv2.normalize(image, image, alpha=-0.5, beta=0.5, norm_type=cv2.NORM_MINMAX, dtype=cv2.CV_32F)"
   ]
  },
  {
   "cell_type": "code",
   "execution_count": 4,
   "metadata": {
    "collapsed": false
   },
   "outputs": [],
   "source": [
    "import cv2\n",
    "from sklearn.utils import shuffle\n",
    "import numpy as np\n",
    "\n",
    "def grayscale(img):\n",
    "    \"\"\"Applies the Grayscale transform\n",
    "    This will return an image with only one color channel\n",
    "    but NOTE: to see the returned image as grayscale\n",
    "    you should call plt.imshow(gray, cmap='gray')\"\"\"\n",
    "    return cv2.cvtColor(img, cv2.COLOR_BGR2GRAY)\n",
    "def norml(image):\n",
    "    #normalize to between -0.5 and 0.5 and output in float\n",
    "    cv2.normalize(image, image, alpha=-0.5, beta=0.5, norm_type=cv2.NORM_MINMAX, dtype=cv2.CV_32F) \n",
    "    return image\n",
    "    \n",
    "# Covert to grayscale and normalize histogram and scale to 0.5 to 0.5\n",
    "X_train = np.array([norml(cv2.equalizeHist(grayscale(image))) for image in X_train])\n",
    "X_train = X_train[..., np.newaxis]\n",
    "X_test = np.array([norml(cv2.equalizeHist(grayscale(image))) for image in X_test])\n",
    "X_test = X_test[..., np.newaxis]\n",
    "\n",
    "\n",
    "# shuffle input data\n",
    "X_train, y_train = shuffle(X_train, y_train)"
   ]
  },
  {
   "cell_type": "markdown",
   "metadata": {},
   "source": [
    "### Question 1 \n",
    "\n",
    "_Describe how you preprocessed the data. Why did you choose that technique?_"
   ]
  },
  {
   "cell_type": "markdown",
   "metadata": {},
   "source": [
    "**Answer:**\n",
    "To preprocess the data, I used the following pipeline:\n",
    "- Convert to Grayscale using: cv2.cvtColor(img, cv2.COLOR_BGR2GRAY)\n",
    "- Equalize the histogram using: cv2.equalizeHist(img)\n",
    "- Normalized the image using: cv2.normalize(image, image, alpha=-0.5, beta=0.5, norm_type=cv2.NORM_MINMAX, dtype=cv2.CV_32F)\n",
    "\n",
    "I chose to use grayscale because the published result \"Traffic Sign Recognition with Multi-Scale Convolutional Networks\" showed that it performed better than color. I also tested this myself and did not notice a significant difference in performance, so I chose the simpler of the two options\n",
    "\n",
    "Equalizing the histogram and normalizing the data both serve the purpose of standardizing the images somewhat to make them more comparable to each other.\n"
   ]
  },
  {
   "cell_type": "code",
   "execution_count": 5,
   "metadata": {
    "collapsed": true
   },
   "outputs": [],
   "source": [
    "### and split the data into training/validation/testing sets here.\n",
    "X_train, X_validation, y_train, y_validation = train_test_split(X_train, y_train, test_size = 0.2, random_state = 0)\n",
    "\n",
    "\n",
    "assert(len(X_train) == len(y_train))\n",
    "assert(len(X_validation) == len(y_validation))"
   ]
  },
  {
   "cell_type": "markdown",
   "metadata": {},
   "source": [
    "### Question 2\n",
    "\n",
    "_Describe how you set up the training, validation and testing data for your model. **Optional**: If you generated additional data, how did you generate the data? Why did you generate the data? What are the differences in the new dataset (with generated data) from the original dataset?_"
   ]
  },
  {
   "cell_type": "markdown",
   "metadata": {},
   "source": [
    "**Answer:**\n",
    "The training data and the validation data were both taken from training set, with 20% reserved for validation. \n",
    "\n",
    "I do generate new data, but not in this code cell. When I train my model, I leveraged a function that Vivek Yadav wrote that uses cv2 transformations on the images to warp the image by translating it, shearing it, and rotating it. Each epoch takes the entire training set and applies a random set of transformations to this effect. The intent is to make the network robust to these transformations by feeding it a large variety of them. I should say that I did speak with Yadav and he was happy to have me use his code for the data augmentation."
   ]
  },
  {
   "cell_type": "code",
   "execution_count": 6,
   "metadata": {
    "collapsed": false
   },
   "outputs": [],
   "source": [
    "### Define Architecture\n",
    "import tensorflow as tf\n",
    "from tensorflow.contrib.layers import flatten\n",
    "\n",
    "\n",
    "def conv2d(x, W, b, strides=1):\n",
    "    # Conv2D wrapper, with bias and relu activation\n",
    "    x = tf.nn.conv2d(x, W, strides=[1, strides, strides, 1], padding='SAME')\n",
    "    x = tf.nn.bias_add(x, b)\n",
    "    return x\n",
    "\n",
    "def fully_connected(x,W,b):\n",
    "    x = tf.add(\n",
    "    tf.matmul(x, W),\n",
    "    b)\n",
    "    return x\n",
    "\n",
    "def maxpool2d(x, k=2):\n",
    "    return tf.nn.max_pool(\n",
    "        x,\n",
    "        ksize=[1, k, k, 1],\n",
    "        strides=[1, k, k, 1],\n",
    "        padding='VALID')\n",
    "\n",
    "#parameters\n",
    "input_depth = 1; # rgb = 3, grayscale = 1\n",
    "output_depth =43; #43 traffic sign\n",
    "    \n",
    "# Hyperparameters\n",
    "mu = 0 # initialization mean\n",
    "sigma = 0.1 # initialization stddev\n",
    "\n",
    "#placeholders\n",
    "x = tf.placeholder(tf.float32, (None, 32, 32, input_depth)) # placeholder for a batch of input images\n",
    "y = tf.placeholder(tf.int32, (None)) # placeholder for a batch of output labels.\n",
    "one_hot_y = tf.one_hot(y, output_depth) #output labels one hot encoded\n",
    "keep_prob_convlayers = tf.placeholder(tf.float32) #placeholder for convolution layer dropout\n",
    "keep_prob_connected = tf.placeholder(tf.float32) #placeholder for fully connected dropout\n",
    "\n",
    "# Layer Depths\n",
    "layer_depth = {\n",
    "    'layer_1': 32,\n",
    "    'layer_1_1x1': 16,\n",
    "    'layer_2': 64, \n",
    "    'layer_2_1x1': 32,\n",
    "    'layer_3': 128, \n",
    "    'layer_3_1x1': 64,\n",
    "    'fully_connected_1': 1024,\n",
    "    'fully_connected_2': 512,\n",
    "    'output_layer': output_depth,\n",
    "}\n",
    "\n",
    "weights = {\n",
    "    'layer_1': tf.Variable(tf.truncated_normal(\n",
    "        [3, 3, input_depth, layer_depth['layer_1']], mean = mu, stddev = sigma)), \n",
    "    'layer_1_1x1': tf.Variable(tf.truncated_normal(\n",
    "        [1,1, layer_depth['layer_1'], layer_depth['layer_1_1x1']], mean = mu, stddev = sigma)), \n",
    "    'layer_2': tf.Variable(tf.truncated_normal(\n",
    "        [3, 3, layer_depth['layer_1_1x1'], layer_depth['layer_2']], mean = mu, stddev = sigma)),\n",
    "    'layer_2_1x1': tf.Variable(tf.truncated_normal(\n",
    "        [1,1, layer_depth['layer_2'], layer_depth['layer_2_1x1']], mean = mu, stddev = sigma)), \n",
    "    'layer_3': tf.Variable(tf.truncated_normal(\n",
    "        [3, 3, layer_depth['layer_2_1x1'], layer_depth['layer_3']], mean = mu, stddev = sigma)),\n",
    "    'layer_3_1x1': tf.Variable(tf.truncated_normal(\n",
    "        [1,1, layer_depth['layer_3'], layer_depth['layer_3_1x1']], mean = mu, stddev = sigma)), \n",
    "    'fully_connected_1': tf.Variable(tf.truncated_normal(\n",
    "        [4*4*layer_depth['layer_3_1x1'], layer_depth['fully_connected_1']], mean = mu, stddev = sigma)),\n",
    "    'fully_connected_2': tf.Variable(tf.truncated_normal(\n",
    "        [layer_depth['fully_connected_1'], layer_depth['fully_connected_2']], mean = mu, stddev = sigma)),\n",
    "    'output_layer': tf.Variable(tf.truncated_normal(\n",
    "        [layer_depth['fully_connected_2'], layer_depth['output_layer']], mean = mu, stddev = sigma))\n",
    "}\n",
    "biases = {\n",
    "    'layer_1': tf.Variable(tf.zeros(layer_depth['layer_1'])),\n",
    "    'layer_1_1x1': tf.Variable(tf.zeros(layer_depth['layer_1_1x1'])),\n",
    "    'layer_2': tf.Variable(tf.zeros(layer_depth['layer_2'])),\n",
    "    'layer_2_1x1': tf.Variable(tf.zeros(layer_depth['layer_2_1x1'])),\n",
    "    'layer_3': tf.Variable(tf.zeros(layer_depth['layer_3'])),\n",
    "    'layer_3_1x1': tf.Variable(tf.zeros(layer_depth['layer_3_1x1'])),\n",
    "    'fully_connected_1': tf.Variable(tf.zeros(layer_depth['fully_connected_1'])),\n",
    "    'fully_connected_2': tf.Variable(tf.zeros(layer_depth['fully_connected_2'])),\n",
    "    'output_layer': tf.Variable(tf.zeros(layer_depth['output_layer']))\n",
    "}\n",
    "\n",
    "def Net(x):\n",
    "    # Layer 1: Convolutional. 3x3x32\n",
    "    x = conv2d(x, weights['layer_1'], biases['layer_1'], strides=1)\n",
    "    # Activation.\n",
    "    x = tf.nn.relu(x)\n",
    "    # Convolutional 1x1x16\n",
    "    x = conv2d(x,weights['layer_1_1x1'], biases['layer_1_1x1'], strides=1)\n",
    "    # Activation.\n",
    "    x = tf.nn.relu(x)\n",
    "    # Max Pooling. 2x2\n",
    "    x = maxpool2d(x)\n",
    "    # Dropout\n",
    "    x = tf.nn.dropout(x, keep_prob_convlayers)\n",
    "\n",
    "    # Layer 2: Convolutional. 3x3x64\n",
    "    x = conv2d(x, weights['layer_2'], biases['layer_2'], strides=1) \n",
    "    # Activation.\n",
    "    x = tf.nn.relu(x)\n",
    "    # Convolutional 1x1x32\n",
    "    x = conv2d(x,weights['layer_2_1x1'], biases['layer_2_1x1'], strides=1)\n",
    "    # Activation.\n",
    "    x = tf.nn.relu(x)\n",
    "    # Max Pooling. 2x2\n",
    "    x = maxpool2d(x)\n",
    "    # use dropout\n",
    "    x = tf.nn.dropout(x, keep_prob_convlayers)\n",
    "\n",
    "    # Layer 3: Convolutional. 3x3x128\n",
    "    x = conv2d(x, weights['layer_3'], biases['layer_3'], strides=1) \n",
    "    # Activation.\n",
    "    x = tf.nn.relu(x)\n",
    "    #1x1 convolution, Output 1x1x64\n",
    "    x = conv2d(x,weights['layer_3_1x1'], biases['layer_3_1x1'], strides=1)\n",
    "    # Activation.\n",
    "    x = tf.nn.relu(x)\n",
    "    # Max Pooling. 2x2.\n",
    "    x = maxpool2d(x)\n",
    "    # Dropout\n",
    "    x = tf.nn.dropout(x, keep_prob_convlayers)\n",
    "\n",
    "\n",
    "\n",
    "    # Flatten. Output is 1024\n",
    "    x = flatten(x)\n",
    "\n",
    "    # Layer 3: Fully Connected, output nuerons 1024\n",
    "\n",
    "    x = fully_connected(x, weights['fully_connected_1'], biases['fully_connected_1'])\n",
    "    # Activation.\n",
    "    x = tf.nn.relu(x)\n",
    "    # Dropout\n",
    "    x = tf.nn.dropout(x, keep_prob_connected)\n",
    "\n",
    "    # Layer 4: Fully Connected. output nuerons 512\n",
    "    x = fully_connected(x, weights['fully_connected_2'], biases['fully_connected_2'])  \n",
    "    # Activation.\n",
    "    x = tf.nn.relu(x)\n",
    "    # Dropout\n",
    "    x = tf.nn.dropout(x, keep_prob_connected)\n",
    "\n",
    "    # Layer 5: Fully Connected. output of size 43\n",
    "    logits = fully_connected(x, weights['output_layer'], biases['output_layer'])  \n",
    "    return logits"
   ]
  },
  {
   "cell_type": "markdown",
   "metadata": {},
   "source": [
    "### Question 3\n",
    "\n",
    "_What does your final architecture look like? (Type of model, layers, sizes, connectivity, etc.)  For reference on how to build a deep neural network using TensorFlow, see [Deep Neural Network in TensorFlow\n",
    "](https://classroom.udacity.com/nanodegrees/nd013/parts/fbf77062-5703-404e-b60c-95b78b2f3f9e/modules/6df7ae49-c61c-4bb2-a23e-6527e69209ec/lessons/b516a270-8600-4f93-a0a3-20dfeabe5da6/concepts/83a3a2a2-a9bd-4b7b-95b0-eb924ab14432) from the classroom._\n"
   ]
  },
  {
   "cell_type": "markdown",
   "metadata": {},
   "source": [
    "**Answer:**\n",
    "My final architecture is outlined below. I use ReLU activation functions throughout, with three layers of convolution, each of these containing an additional 1x1 convolution to increase the depth, maxpooling, and dropout for regularization. These three convolutional layers are followed by 2 fully connected layers (with dropout) and finally the last layer to compute the logits. \n",
    "\n",
    "### Define Network Structure\n",
    "\n",
    "**Layer 1: **\n",
    "\n",
    "**Convolutional.** 3x3x32\n",
    "\n",
    "**Activation.** ReLU\n",
    "\n",
    "**Convolutional.** 1x1x16\n",
    "\n",
    "**Activation.** ReLU\n",
    "\n",
    "**Maxpool.** 2x2\n",
    "\n",
    "**Dropout.** Keep_Prob = 0.6\n",
    "\n",
    "******************************\n",
    "\n",
    "**Layer 2: **\n",
    "\n",
    "**Convolutional.** 3x3x64\n",
    "\n",
    "**Activation.** ReLU\n",
    "\n",
    "**Convolutional.** 1x1x32\n",
    "\n",
    "**Activation.** ReLU\n",
    "\n",
    "**Maxpool.** 2x2\n",
    "\n",
    "**Dropout.** Keep_Prob = 0.6\n",
    "\n",
    "******************************\n",
    "\n",
    "**Layer 3: **\n",
    "\n",
    "**Convolutional.** 3x3x128\n",
    "\n",
    "**Activation.** ReLU\n",
    "\n",
    "**Convolutional.** 1x1x64\n",
    "\n",
    "**Activation.** ReLU\n",
    "\n",
    "**Maxpool.** 2x2\n",
    "\n",
    "**Dropout.** Keep_Prob = 0.6\n",
    "\n",
    "******************************\n",
    "\n",
    "**Layer 4: **\n",
    "\n",
    "**Fully Connected.** 1024 outputs\n",
    "\n",
    "**Activation.** ReLU\n",
    "\n",
    "**Dropout.** Keep_Prob = 0.5\n",
    "\n",
    "******************************\n",
    "\n",
    "**Layer 5: **\n",
    "\n",
    "**Fully Connected.** 512 outputs\n",
    "\n",
    "**Activation.** ReLU\n",
    "\n",
    "**Dropout.** Keep_Prob = 0.5\n",
    "\n",
    "******************************\n",
    "\n",
    "**Layer 6: **\n",
    "\n",
    "**Fully Connected (Logits).** 43 outputs"
   ]
  },
  {
   "cell_type": "markdown",
   "metadata": {},
   "source": [
    "## Training Pipeline\n",
    "Create a training pipeline that uses the model to classify data."
   ]
  },
  {
   "cell_type": "code",
   "execution_count": 7,
   "metadata": {
    "collapsed": false
   },
   "outputs": [],
   "source": [
    "# Hyper Parameters\n",
    "rate = 0.001 # learning rate\n",
    "beta = 0.001 # regularization penalty\n",
    "\n",
    "#define loss function\n",
    "logits = Net(x)\n",
    "cross_entropy = tf.nn.softmax_cross_entropy_with_logits(logits, one_hot_y)\n",
    "\n",
    "# l2 regularization penalty\n",
    "l2_reg = beta*tf.nn.l2_loss(weights['layer_1']) + beta*tf.nn.l2_loss(weights['layer_1_1x1']) + \\\n",
    "    beta*tf.nn.l2_loss(weights['layer_2']) + \\\n",
    "    beta*tf.nn.l2_loss(weights['layer_2_1x1']) + \\\n",
    "    beta*tf.nn.l2_loss(weights['layer_3']) + \\\n",
    "    beta*tf.nn.l2_loss(weights['fully_connected_1']) + \\\n",
    "    beta*tf.nn.l2_loss(weights['fully_connected_2']) + \\\n",
    "    beta*tf.nn.l2_loss(weights['output_layer']) + \\\n",
    "    beta*tf.nn.l2_loss(biases['layer_1']) + \\\n",
    "    beta*tf.nn.l2_loss(biases['layer_1_1x1']) + \\\n",
    "    beta*tf.nn.l2_loss(biases['layer_2']) + \\\n",
    "    beta*tf.nn.l2_loss(biases['layer_2_1x1']) + \\\n",
    "    beta*tf.nn.l2_loss(biases['layer_3']) + \\\n",
    "    beta*tf.nn.l2_loss(biases['fully_connected_1']) + \\\n",
    "    beta*tf.nn.l2_loss(biases['fully_connected_2']) + \\\n",
    "    beta*tf.nn.l2_loss(biases['output_layer'])\n",
    "                               \n",
    "loss_operation = tf.reduce_mean(cross_entropy + l2_reg)\n",
    "# loss_operation = tf.reduce_mean(cross_entropy)\n",
    "optimizer = tf.train.AdamOptimizer(learning_rate = rate)\n",
    "training_operation = optimizer.minimize(loss_operation)"
   ]
  },
  {
   "cell_type": "markdown",
   "metadata": {},
   "source": [
    "## Model Evaluation\n",
    "Evaluate how well the loss and accuracy of the model for a given dataset."
   ]
  },
  {
   "cell_type": "code",
   "execution_count": null,
   "metadata": {
    "collapsed": false
   },
   "outputs": [],
   "source": [
    "correct_prediction = tf.equal(tf.argmax(logits, 1), tf.argmax(one_hot_y, 1))\n",
    "accuracy_operation = tf.reduce_mean(tf.cast(correct_prediction, tf.float32))\n",
    "\n",
    "def evaluate(X_data, y_data):\n",
    "    num_examples = len(X_data)\n",
    "    total_accuracy = 0\n",
    "    sess = tf.get_default_session()\n",
    "    for offset in range(0, num_examples, BATCH_SIZE):\n",
    "        batch_x, batch_y = X_data[offset:offset+BATCH_SIZE], y_data[offset:offset+BATCH_SIZE]\n",
    "        accuracy = sess.run(accuracy_operation, feed_dict={x: batch_x, y: batch_y, keep_prob_convlayers: 1., keep_prob_connected: 1.})\n",
    "        total_accuracy += (accuracy * len(batch_x))\n",
    "    return total_accuracy / num_examples"
   ]
  },
  {
   "cell_type": "markdown",
   "metadata": {
    "collapsed": true
   },
   "source": [
    "## Train the Model\n",
    "Run the training data through the training pipeline to train the model.\n",
    "\n",
    "Before each epoch:\n",
    "    - shuffle the training set.\n",
    "    - distort data by applying random rotatinos, translations, and shears\n",
    "\n",
    "After each epoch, measure the loss and accuracy of the validation set.\n",
    "\n",
    "Save the model after training."
   ]
  },
  {
   "cell_type": "code",
   "execution_count": null,
   "metadata": {
    "collapsed": false
   },
   "outputs": [
    {
     "name": "stdout",
     "output_type": "stream",
     "text": [
      "Training...\n",
      "\n"
     ]
    }
   ],
   "source": [
    "# Hyperparameters\n",
    "EPOCHS = 150\n",
    "BATCH_SIZE = 256\n",
    "def transform_image(img,ang_range,shear_range,trans_range,brightness=0):\n",
    "    '''\n",
    "    Function written by Vivek Yadav.\n",
    "    \n",
    "    This function transforms images to generate new images.\n",
    "    The function takes in following arguments,\n",
    "    1- Image\n",
    "    2- ang_range: Range of angles for rotation\n",
    "    3- shear_range: Range of values to apply affine transform to\n",
    "    4- trans_range: Range of values to apply translations over.\n",
    "\n",
    "    A Random uniform distribution is used to generate different parameters for transformation\n",
    "\n",
    "    '''\n",
    "    # Rotation\n",
    "\n",
    "    ang_rot = np.random.uniform(ang_range)-ang_range/2\n",
    "    rows,cols,ch = img.shape    \n",
    "    Rot_M = cv2.getRotationMatrix2D((cols/2,rows/2),ang_rot,1)\n",
    "\n",
    "    # Translation\n",
    "    tr_x = trans_range*np.random.uniform()-trans_range/2\n",
    "    tr_y = trans_range*np.random.uniform()-trans_range/2\n",
    "    Trans_M = np.float32([[1,0,tr_x],[0,1,tr_y]])\n",
    "\n",
    "    # Shear\n",
    "    pts1 = np.float32([[5,5],[20,5],[5,20]])\n",
    "\n",
    "    pt1 = 5+shear_range*np.random.uniform()-shear_range/2\n",
    "    pt2 = 20+shear_range*np.random.uniform()-shear_range/2\n",
    "\n",
    "\n",
    "    pts2 = np.float32([[pt1,5],[pt2,pt1],[5,pt2]])\n",
    "\n",
    "    shear_M = cv2.getAffineTransform(pts1,pts2)\n",
    "\n",
    "    img = cv2.warpAffine(img,Rot_M,(cols,rows))\n",
    "    img = cv2.warpAffine(img,Trans_M,(cols,rows))\n",
    "    img = cv2.warpAffine(img,shear_M,(cols,rows))\n",
    "\n",
    "    return img\n",
    "    \n",
    "\n",
    "\n",
    "with tf.Session(config=tf.ConfigProto(log_device_placement=True)) as sess:\n",
    "    sess.run(tf.global_variables_initializer())\n",
    "    num_examples = len(X_train)\n",
    "\n",
    "    print(\"Training...\")\n",
    "    print()\n",
    "    for i in range(EPOCHS):\n",
    "        \n",
    "        X_train, y_train = shuffle(X_train, y_train)\n",
    "        # distort image\n",
    "        X_train1 = np.array([transform_image(image,15,5,2) for image in X_train])\n",
    "        X_train1 = X_train1[..., np.newaxis]\n",
    "        \n",
    "        for offset in range(0, num_examples, BATCH_SIZE):\n",
    "            end = offset + BATCH_SIZE\n",
    "            batch_x, batch_y = X_train1[offset:end], y_train[offset:end]\n",
    "            sess.run(training_operation, feed_dict={x: batch_x, y: batch_y, keep_prob_convlayers: 0.7, keep_prob_connected: 0.5})\n",
    "        validation_accuracy = evaluate(X_validation, y_validation)\n",
    "        print(\"EPOCH {} ...\".format(i+1))\n",
    "        print(\"Validation Accuracy = {:.3f}\".format(validation_accuracy))\n",
    "        print()\n",
    "        \n",
    "    try:\n",
    "        saver\n",
    "    except NameError:\n",
    "        saver = tf.train.Saver()\n",
    "    saver.save(sess, 'Traffic_Sign_Classifying_Net')\n",
    "    \n",
    "    print(\"Model saved\")"
   ]
  },
  {
   "cell_type": "markdown",
   "metadata": {},
   "source": [
    "### Question 4\n",
    "\n",
    "_How did you train your model? (Type of optimizer, batch size, epochs, hyperparameters, etc.)_\n",
    "\n",
    "\n",
    "**Answer:**\n",
    "I used the Adam optimizer with a learning rate of 0.001. In order to avoid overfitting, I added an l2 regularization penalty on all of the weights and biases with a beta of 0.001. \n",
    "\n",
    "The batch size I used was 256 and I trained the model over 150 epochs. \n",
    "\n",
    "As I mentioned before, I augment each of the images using a function written by Vivek Yadav before each epoch.This function warps the image by translating it, shearing it, and rotating it. Each epoch takes the entire training set and applies a random set of transformations to this effect. The intent is to make the network robust to these transformations by feeding it a large variety of them. \n",
    "\n"
   ]
  },
  {
   "cell_type": "markdown",
   "metadata": {},
   "source": [
    "### Question 5\n",
    "\n",
    "\n",
    "_What approach did you take in coming up with a solution to this problem? It may have been a process of trial and error, in which case, outline the steps you took to get to the final solution and why you chose those steps. Perhaps your solution involved an already well known implementation or architecture. In this case, discuss why you think this is suitable for the current problem._"
   ]
  },
  {
   "cell_type": "markdown",
   "metadata": {},
   "source": [
    "**Answer:**\n",
    "\n",
    "The approach I took on this problem was to start with the lenet architecture and make modifications to this to improve the accuracy. I added some depth, added dropout, added 1x1 convolutional layers. \n",
    "\n",
    "Once I had achieved fairly good results, I read a about some published arquitectures for this data such as:\n",
    "http://yann.lecun.com/exdb/publis/pdf/sermanet-ijcnn-11.pdf\n",
    "https://chatbotslife.com/german-sign-classification-using-deep-learning-neural-networks-98-8-solution-d05656bf51ad#.d06fgw6jl\n",
    "\n",
    "I also discussed with my mentor and classmates about different approaches. This led to me adding data augmentation to my training data, and adding l2 regularization to my cost function. I also increased the number of parameters in each layer significantly to detect more features.\n"
   ]
  },
  {
   "cell_type": "code",
   "execution_count": null,
   "metadata": {
    "collapsed": true
   },
   "outputs": [],
   "source": [
    "with tf.Session() as sess:\n",
    "    loader = tf.train.import_meta_graph('lenet.meta')\n",
    "    loader.restore(sess, tf.train.latest_checkpoint('./'))\n",
    "\n",
    "    test_accuracy = evaluate(X_test, y_test)\n",
    "    print(\"Test Accuracy = {:.3f}\".format(test_accuracy))"
   ]
  },
  {
   "cell_type": "markdown",
   "metadata": {},
   "source": [
    "---\n",
    "\n",
    "## Step 3: Test a Model on New Images\n",
    "\n",
    "Take several pictures of traffic signs that you find on the web or around you (at least five), and run them through your classifier on your computer to produce example results. The classifier might not recognize some local signs but it could prove interesting nonetheless.\n",
    "\n",
    "You may find `signnames.csv` useful as it contains mappings from the class id (integer) to the actual sign name."
   ]
  },
  {
   "cell_type": "markdown",
   "metadata": {},
   "source": [
    "### Implementation\n",
    "\n",
    "Use the code cell (or multiple code cells, if necessary) to implement the first step of your project. Once you have completed your implementation and are satisfied with the results, be sure to thoroughly answer the questions that follow."
   ]
  },
  {
   "cell_type": "code",
   "execution_count": null,
   "metadata": {
    "collapsed": true
   },
   "outputs": [],
   "source": [
    "### Load the images and plot them here.\n",
    "### Feel free to use as many code cells as needed."
   ]
  },
  {
   "cell_type": "markdown",
   "metadata": {},
   "source": [
    "### Question 6\n",
    "\n",
    "_Choose five candidate images of traffic signs and provide them in the report. Are there any particular qualities of the image(s) that might make classification difficult? It could be helpful to plot the images in the notebook._\n",
    "\n"
   ]
  },
  {
   "cell_type": "markdown",
   "metadata": {},
   "source": [
    "**Answer:**"
   ]
  },
  {
   "cell_type": "code",
   "execution_count": null,
   "metadata": {
    "collapsed": true
   },
   "outputs": [],
   "source": [
    "### Run the predictions here.\n",
    "### Feel free to use as many code cells as needed."
   ]
  },
  {
   "cell_type": "markdown",
   "metadata": {},
   "source": [
    "### Question 7\n",
    "\n",
    "_Is your model able to perform equally well on captured pictures when compared to testing on the dataset? The simplest way to do this check the accuracy of the predictions. For example, if the model predicted 1 out of 5 signs correctly, it's 20% accurate._\n",
    "\n",
    "_**NOTE:** You could check the accuracy manually by using `signnames.csv` (same directory). This file has a mapping from the class id (0-42) to the corresponding sign name. So, you could take the class id the model outputs, lookup the name in `signnames.csv` and see if it matches the sign from the image._\n"
   ]
  },
  {
   "cell_type": "markdown",
   "metadata": {},
   "source": [
    "**Answer:**"
   ]
  },
  {
   "cell_type": "code",
   "execution_count": null,
   "metadata": {
    "collapsed": true
   },
   "outputs": [],
   "source": [
    "### Visualize the softmax probabilities here.\n",
    "### Feel free to use as many code cells as needed."
   ]
  },
  {
   "cell_type": "markdown",
   "metadata": {},
   "source": [
    "### Question 8\n",
    "\n",
    "*Use the model's softmax probabilities to visualize the **certainty** of its predictions, [`tf.nn.top_k`](https://www.tensorflow.org/versions/r0.12/api_docs/python/nn.html#top_k) could prove helpful here. Which predictions is the model certain of? Uncertain? If the model was incorrect in its initial prediction, does the correct prediction appear in the top k? (k should be 5 at most)*\n",
    "\n",
    "`tf.nn.top_k` will return the values and indices (class ids) of the top k predictions. So if k=3, for each sign, it'll return the 3 largest probabilities (out of a possible 43) and the correspoding class ids.\n",
    "\n",
    "Take this numpy array as an example:\n",
    "\n",
    "```\n",
    "# (5, 6) array\n",
    "a = np.array([[ 0.24879643,  0.07032244,  0.12641572,  0.34763842,  0.07893497,\n",
    "         0.12789202],\n",
    "       [ 0.28086119,  0.27569815,  0.08594638,  0.0178669 ,  0.18063401,\n",
    "         0.15899337],\n",
    "       [ 0.26076848,  0.23664738,  0.08020603,  0.07001922,  0.1134371 ,\n",
    "         0.23892179],\n",
    "       [ 0.11943333,  0.29198961,  0.02605103,  0.26234032,  0.1351348 ,\n",
    "         0.16505091],\n",
    "       [ 0.09561176,  0.34396535,  0.0643941 ,  0.16240774,  0.24206137,\n",
    "         0.09155967]])\n",
    "```\n",
    "\n",
    "Running it through `sess.run(tf.nn.top_k(tf.constant(a), k=3))` produces:\n",
    "\n",
    "```\n",
    "TopKV2(values=array([[ 0.34763842,  0.24879643,  0.12789202],\n",
    "       [ 0.28086119,  0.27569815,  0.18063401],\n",
    "       [ 0.26076848,  0.23892179,  0.23664738],\n",
    "       [ 0.29198961,  0.26234032,  0.16505091],\n",
    "       [ 0.34396535,  0.24206137,  0.16240774]]), indices=array([[3, 0, 5],\n",
    "       [0, 1, 4],\n",
    "       [0, 5, 1],\n",
    "       [1, 3, 5],\n",
    "       [1, 4, 3]], dtype=int32))\n",
    "```\n",
    "\n",
    "Looking just at the first row we get `[ 0.34763842,  0.24879643,  0.12789202]`, you can confirm these are the 3 largest probabilities in `a`. You'll also notice `[3, 0, 5]` are the corresponding indices."
   ]
  },
  {
   "cell_type": "markdown",
   "metadata": {},
   "source": [
    "**Answer:**"
   ]
  },
  {
   "cell_type": "markdown",
   "metadata": {},
   "source": [
    "> **Note**: Once you have completed all of the code implementations and successfully answered each question above, you may finalize your work by exporting the iPython Notebook as an HTML document. You can do this by using the menu above and navigating to  \\n\",\n",
    "    \"**File -> Download as -> HTML (.html)**. Include the finished document along with this notebook as your submission."
   ]
  },
  {
   "cell_type": "code",
   "execution_count": null,
   "metadata": {
    "collapsed": true
   },
   "outputs": [],
   "source": []
  }
 ],
 "metadata": {
  "anaconda-cloud": {},
  "kernelspec": {
   "display_name": "Python 3",
   "language": "python",
   "name": "python3"
  },
  "language_info": {
   "codemirror_mode": {
    "name": "ipython",
    "version": 3
   },
   "file_extension": ".py",
   "mimetype": "text/x-python",
   "name": "python",
   "nbconvert_exporter": "python",
   "pygments_lexer": "ipython3",
   "version": "3.5.2"
  },
  "widgets": {
   "state": {},
   "version": "1.1.2"
  }
 },
 "nbformat": 4,
 "nbformat_minor": 1
}
